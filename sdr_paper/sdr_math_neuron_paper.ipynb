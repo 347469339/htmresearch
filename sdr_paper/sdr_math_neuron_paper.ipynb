{
 "cells": [
  {
   "cell_type": "code",
   "execution_count": 2,
   "metadata": {
    "collapsed": false
   },
   "outputs": [],
   "source": [
    "from sympy import *\n",
    "init_printing()\n",
    "from IPython.display import display\n",
    "\n",
    "%matplotlib inline\n",
    "\n",
    "import matplotlib.pyplot as plt"
   ]
  },
  {
   "cell_type": "markdown",
   "metadata": {},
   "source": [
    "# Equation for Neuron Paper\n",
    "\n",
    "      A dendritic segment can robustly classify a pattern by subsampling a small number of cells from a larger population.  Assuming a random distribution of patterns, the exact probability of a false match is given by the following equation:\n"
   ]
  },
  {
   "cell_type": "code",
   "execution_count": 3,
   "metadata": {
    "collapsed": false
   },
   "outputs": [
    {
     "data": {
      "image/png": "[encoded data removed]",
      "text/latex": [
       "$$\\sum_{b=\\theta}^{s} \\frac{{\\binom{s}{b}}}{{\\binom{n}{a}}} {\\binom{n - s}{a - b}}$$"
      ],
      "text/plain": [
       "  s               \n",
       "______            \n",
       "╲                 \n",
       " ╲     ⎛s⎞ ⎛n - s⎞\n",
       "  ╲    ⎜ ⎟⋅⎜     ⎟\n",
       "   ╲   ⎝b⎠ ⎝a - b⎠\n",
       "    ╲  ───────────\n",
       "    ╱      ⎛n⎞    \n",
       "   ╱       ⎜ ⎟    \n",
       "  ╱        ⎝a⎠    \n",
       " ╱                \n",
       "╱                 \n",
       "‾‾‾‾‾‾            \n",
       "b = θ             "
      ]
     },
     "metadata": {},
     "output_type": "display_data"
    },
    {
     "data": {
      "image/png": "[encoded data removed]",
      "text/latex": [
       "$$\\frac{1}{{\\binom{n}{a}}} \\sum_{b=\\theta}^{s} {\\binom{s}{b}} {\\binom{n - s}{a - b}}$$"
      ],
      "text/plain": [
       "  s              \n",
       " ____            \n",
       " ╲               \n",
       "  ╲   ⎛s⎞ ⎛n - s⎞\n",
       "   ╲  ⎜ ⎟⋅⎜     ⎟\n",
       "   ╱  ⎝b⎠ ⎝a - b⎠\n",
       "  ╱              \n",
       " ╱               \n",
       " ‾‾‾‾            \n",
       "b = θ            \n",
       "─────────────────\n",
       "       ⎛n⎞       \n",
       "       ⎜ ⎟       \n",
       "       ⎝a⎠       "
      ]
     },
     "metadata": {},
     "output_type": "display_data"
    }
   ],
   "source": [
    "oxp = Symbol(\"Omega_x'\")\n",
    "b = Symbol(\"b\")\n",
    "n = Symbol(\"n\")\n",
    "theta = Symbol(\"theta\")\n",
    "w = Symbol(\"w\")\n",
    "s = Symbol(\"s\")\n",
    "a = Symbol(\"a\")\n",
    "\n",
    "subsampledOmega = (binomial(s, b) * binomial(n - s, a - b)) / binomial(n, a)\n",
    "subsampledFpF = Sum(subsampledOmega, (b, theta, s))\n",
    "subsampledOmegaSlow = (binomial(s, b) * binomial(n - s, a - b)) \n",
    "subsampledFpFSlow = Sum(subsampledOmegaSlow, (b, theta, s))/ binomial(n, a)\n",
    "\n",
    "display(subsampledFpF)\n",
    "display(subsampledFpFSlow)"
   ]
  },
  {
   "cell_type": "markdown",
   "metadata": {},
   "source": [
    "where n refers to the size of the population of cells, a is the number of active cells at any instance in time, s is the number of actual synapses on a dendritic segment, and θ is the threshold for NMDA spikes. Following   (Ahmad & Hawkins, 2015), the numerator counts the number of possible ways θ or more cells can match a fixed set of s synapses. The denominator counts the number of ways a cells out of n can be active. \n",
    "    \n",
    "## Example usage"
   ]
  },
  {
   "cell_type": "code",
   "execution_count": 4,
   "metadata": {
    "collapsed": false
   },
   "outputs": [
    {
     "data": {
      "text/plain": [
       "'n=1024, a=8, s=4, omega=2'"
      ]
     },
     "metadata": {},
     "output_type": "display_data"
    },
    {
     "data": {
      "image/png": "[encoded data removed]",
      "text/latex": [
       "$$0.000318241665415146$$"
      ],
      "text/plain": [
       "0.000318241665415146"
      ]
     },
     "metadata": {},
     "output_type": "display_data"
    }
   ],
   "source": [
    "display(\"n=1024, a=8, s=4, omega=2\", subsampledFpF.subs(s, 4).subs(n, 1024).subs(a, 8).subs(theta, 2).evalf())"
   ]
  },
  {
   "cell_type": "code",
   "execution_count": 5,
   "metadata": {
    "collapsed": false
   },
   "outputs": [
    {
     "data": {
      "text/plain": [
       "'n=100000, a=2000, s=10, theta=10'"
      ]
     },
     "metadata": {},
     "output_type": "display_data"
    },
    {
     "data": {
      "image/png": "[encoded data removed]",
      "text/latex": [
       "$$1.00163216178113 \\cdot 10^{-17}$$"
      ],
      "text/plain": [
       "1.00163216178113e-17"
      ]
     },
     "metadata": {},
     "output_type": "display_data"
    }
   ],
   "source": [
    "display(\"n=100000, a=2000, s=10, theta=10\", subsampledFpFSlow.subs(theta, 10).subs(s, 10).subs(n, 100000).subs(a, 2000).evalf())"
   ]
  },
  {
   "cell_type": "code",
   "execution_count": 7,
   "metadata": {
    "collapsed": false
   },
   "outputs": [
    {
     "data": {
      "text/plain": [
       "'n=2048, a=400, s=40, theta=20'"
      ]
     },
     "metadata": {},
     "output_type": "display_data"
    },
    {
     "data": {
      "image/png": "[encoded data removed]",
      "text/latex": [
       "$$1.19954818128435 \\cdot 10^{-5}$$"
      ],
      "text/plain": [
       "1.19954818128435e-5"
      ]
     },
     "metadata": {},
     "output_type": "display_data"
    }
   ],
   "source": [
    "display(\"n=2048, a=400, s=40, theta=20\", subsampledFpF.subs(theta, 20).subs(s, 40).subs(n, 2048).subs(a, 400).evalf())"
   ]
  },
  {
   "cell_type": "markdown",
   "metadata": {
    "collapsed": true
   },
   "source": [
    "## Table 1B"
   ]
  },
  {
   "cell_type": "code",
   "execution_count": 17,
   "metadata": {
    "collapsed": false
   },
   "outputs": [
    {
     "name": "stdout",
     "output_type": "stream",
     "text": [
      "n=200000, a=2000, theta=s\n"
     ]
    },
    {
     "data": {
      "text/plain": [
       "'s=6'"
      ]
     },
     "metadata": {},
     "output_type": "display_data"
    },
    {
     "data": {
      "image/png": "[encoded data removed]",
      "text/latex": [
       "$$6.35308872941916 \\cdot 10^{-11}$$"
      ],
      "text/plain": [
       "6.35308872941916e-11"
      ]
     },
     "metadata": {},
     "output_type": "display_data"
    },
    {
     "data": {
      "text/plain": [
       "'s=8'"
      ]
     },
     "metadata": {},
     "output_type": "display_data"
    },
    {
     "data": {
      "image/png": "[encoded data removed]",
      "text/latex": [
       "$$2.52507239284961 \\cdot 10^{-14}$$"
      ],
      "text/plain": [
       "2.52507239284961e-14"
      ]
     },
     "metadata": {},
     "output_type": "display_data"
    },
    {
     "data": {
      "text/plain": [
       "'s=10'"
      ]
     },
     "metadata": {},
     "output_type": "display_data"
    },
    {
     "data": {
      "image/png": "[encoded data removed]",
      "text/latex": [
       "$$1.00163216178113 \\cdot 10^{-17}$$"
      ],
      "text/plain": [
       "1.00163216178113e-17"
      ]
     },
     "metadata": {},
     "output_type": "display_data"
    }
   ],
   "source": [
    "T1B = subsampledFpFSlow.subs(n, 100000).subs(a, 2000).subs(theta,s).evalf()\n",
    "print \"n=100000, a=2000, theta=s\"\n",
    "display(\"s=6\",T1B.subs(s,6).evalf())\n",
    "display(\"s=8\",T1B.subs(s,8).evalf())\n",
    "display(\"s=10\",T1B.subs(s,10).evalf())"
   ]
  },
  {
   "cell_type": "markdown",
   "metadata": {},
   "source": [
    "## Table 1C"
   ]
  },
  {
   "cell_type": "code",
   "execution_count": 31,
   "metadata": {
    "collapsed": false
   },
   "outputs": [
    {
     "name": "stdout",
     "output_type": "stream",
     "text": [
      "n=100000, a=2000, s=2*theta\n"
     ]
    },
    {
     "data": {
      "text/plain": [
       "'theta=6'"
      ]
     },
     "metadata": {},
     "output_type": "display_data"
    },
    {
     "data": {
      "image/png": "[encoded data removed]",
      "text/latex": [
       "$$5.29386836275369 \\cdot 10^{-8}$$"
      ],
      "text/plain": [
       "5.29386836275369e-8"
      ]
     },
     "metadata": {},
     "output_type": "display_data"
    },
    {
     "data": {
      "text/plain": [
       "'theta=8'"
      ]
     },
     "metadata": {},
     "output_type": "display_data"
    },
    {
     "data": {
      "image/png": "[encoded data removed]",
      "text/latex": [
       "$$2.81724528327272 \\cdot 10^{-10}$$"
      ],
      "text/plain": [
       "2.81724528327272e-10"
      ]
     },
     "metadata": {},
     "output_type": "display_data"
    },
    {
     "data": {
      "text/plain": [
       "'theta=10'"
      ]
     },
     "metadata": {},
     "output_type": "display_data"
    },
    {
     "data": {
      "image/png": "[encoded data removed]",
      "text/latex": [
       "$$1.5419276725872 \\cdot 10^{-12}$$"
      ],
      "text/plain": [
       "1.54192767258720e-12"
      ]
     },
     "metadata": {},
     "output_type": "display_data"
    },
    {
     "data": {
      "text/plain": [
       "'theta=12'"
      ]
     },
     "metadata": {},
     "output_type": "display_data"
    },
    {
     "data": {
      "image/png": "[encoded data removed]",
      "text/latex": [
       "$$8.58694100276592 \\cdot 10^{-15}$$"
      ],
      "text/plain": [
       "8.58694100276592e-15"
      ]
     },
     "metadata": {},
     "output_type": "display_data"
    }
   ],
   "source": [
    "T1C = subsampledFpFSlow.subs(n, 100000).subs(a, 2000).subs(s,2*theta).evalf()\n",
    "print \"n=100000, a=2000, s=2*theta\"\n",
    "display(\"theta=6\",T1C.subs(theta,6).evalf())\n",
    "display(\"theta=8\",T1C.subs(theta,8).evalf())\n",
    "display(\"theta=10\",T1C.subs(theta,10).evalf())\n",
    "display(\"theta=12\",T1C.subs(theta,12).evalf())"
   ]
  },
  {
   "cell_type": "markdown",
   "metadata": {},
   "source": [
    "## Table 1D"
   ]
  },
  {
   "cell_type": "code",
   "execution_count": 29,
   "metadata": {
    "collapsed": false
   },
   "outputs": [
    {
     "name": "stdout",
     "output_type": "stream",
     "text": [
      "n=100000, a=2000, s=2*m*theta\n"
     ]
    },
    {
     "data": {
      "text/plain": [
       "'theta=10, m=2'"
      ]
     },
     "metadata": {},
     "output_type": "display_data"
    },
    {
     "data": {
      "image/png": "[encoded data removed]",
      "text/latex": [
       "$$4.91541864813209 \\cdot 10^{-9}$$"
      ],
      "text/plain": [
       "4.91541864813209e-9"
      ]
     },
     "metadata": {},
     "output_type": "display_data"
    },
    {
     "data": {
      "text/plain": [
       "'theta=10, m=4'"
      ]
     },
     "metadata": {},
     "output_type": "display_data"
    },
    {
     "data": {
      "image/png": "[encoded data removed]",
      "text/latex": [
       "$$4.62568448037595 \\cdot 10^{-6}$$"
      ],
      "text/plain": [
       "4.62568448037595e-6"
      ]
     },
     "metadata": {},
     "output_type": "display_data"
    },
    {
     "data": {
      "text/plain": [
       "'theta=10, m=6'"
      ]
     },
     "metadata": {},
     "output_type": "display_data"
    },
    {
     "data": {
      "image/png": "[encoded data removed]",
      "text/latex": [
       "$$0.000158799793094937$$"
      ],
      "text/plain": [
       "0.000158799793094937"
      ]
     },
     "metadata": {},
     "output_type": "display_data"
    },
    {
     "data": {
      "text/plain": [
       "'theta=20, m=6'"
      ]
     },
     "metadata": {},
     "output_type": "display_data"
    },
    {
     "data": {
      "image/png": "[encoded data removed]",
      "text/latex": [
       "$$1.07990763941591 \\cdot 10^{-7}$$"
      ],
      "text/plain": [
       "1.07990763941591e-7"
      ]
     },
     "metadata": {},
     "output_type": "display_data"
    }
   ],
   "source": [
    "m = Symbol(\"m\")\n",
    "T1D = subsampledFpF.subs(n, 100000).subs(a, 2000).subs(s,2*m*theta).evalf()\n",
    "print \"n=100000, a=2000, s=2*m*theta\"\n",
    "display(\"theta=10, m=2\",T1D.subs(theta,10).subs(m,2).evalf())\n",
    "display(\"theta=10, m=4\",T1D.subs(theta,10).subs(m,4).evalf())\n",
    "display(\"theta=10, m=6\",T1D.subs(theta,10).subs(m,6).evalf())\n",
    "display(\"theta=20, m=6\",T1D.subs(theta,20).subs(m,6).evalf())"
   ]
  },
  {
   "cell_type": "code",
   "execution_count": null,
   "metadata": {
    "collapsed": true
   },
   "outputs": [],
   "source": []
  }
 ],
 "metadata": {
  "kernelspec": {
   "display_name": "Python 2",
   "language": "python",
   "name": "python2"
  },
  "language_info": {
   "codemirror_mode": {
    "name": "ipython",
    "version": 2
   },
   "file_extension": ".py",
   "mimetype": "text/x-python",
   "name": "python",
   "nbconvert_exporter": "python",
   "pygments_lexer": "ipython2",
   "version": "2.7.6"
  }
 },
 "nbformat": 4,
 "nbformat_minor": 0
}
