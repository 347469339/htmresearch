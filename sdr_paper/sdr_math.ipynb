{
 "metadata": {
  "name": "",
  "signature": "sha256:35d34afd99d98acdab17bbef8581efb61ef821c4d19f86939375283da754f23e"
 },
 "nbformat": 3,
 "nbformat_minor": 0,
 "worksheets": [
  {
   "cells": [
    {
     "cell_type": "code",
     "collapsed": false,
     "input": [
      "from sympy import *\n",
      "init_printing()\n",
      "from IPython.display import display\n",
      "\n",
      "%matplotlib inline\n",
      "\n",
      "import matplotlib.pyplot as plt"
     ],
     "language": "python",
     "metadata": {},
     "outputs": [],
     "prompt_number": 2
    },
    {
     "cell_type": "markdown",
     "metadata": {},
     "source": [
      "# Uniqueness and Exact Matches"
     ]
    },
    {
     "cell_type": "code",
     "collapsed": false,
     "input": [
      "\n",
      "\n",
      "\n",
      "#def overlap(x, y):\n",
      "#    return (x & y).sum()\n",
      "\n",
      "#def match(x, y, t):\n",
      "#    return overlap(x, y) >= t\n",
      "\n",
      "n = Symbol(\"n\", positive=True)\n",
      "w = Symbol(\"w\", positive=True)\n",
      "\n",
      "nCw = factorial(n) / (factorial(w) * factorial(n - w))\n",
      "display(Eq(binomial(n, w), nCw))\n",
      "\n",
      "display(\"Valid for n=1024, w=2?\", Eq(binomial(n, w), nCw).subs(n, 1024).subs(w, 2))"
     ],
     "language": "python",
     "metadata": {},
     "outputs": [
      {
       "latex": [
        "$${\\binom{n}{w}} = \\frac{n!}{w! \\left(n - w\\right)!}$$"
       ],
       "metadata": {},
       "output_type": "display_data",
       "png": "[encoded data removed]",
       "text": [
        "\u239bn\u239e        n!    \n",
        "\u239c \u239f = \u2500\u2500\u2500\u2500\u2500\u2500\u2500\u2500\u2500\u2500\u2500\n",
        "\u239dw\u23a0   w!\u22c5(n - w)!"
       ]
      },
      {
       "metadata": {},
       "output_type": "display_data",
       "text": [
        "'Valid for n=1024, w=2?'"
       ]
      },
      {
       "latex": [
        "$$\\mathrm{True}$$"
       ],
       "metadata": {},
       "output_type": "display_data",
       "png": "[encoded data removed]",
       "text": [
        "True"
       ]
      }
     ],
     "prompt_number": 3
    },
    {
     "cell_type": "code",
     "collapsed": false,
     "input": [
      "# Probability of two SDRs being the same\n",
      "probMatch = 1 / binomial(n, w)\n",
      "display(\"Probability of match\", probMatch)\n",
      "\n",
      "def displayProbs(nVal, wVal):\n",
      "    subbed = probMatch.subs(n, nVal).subs(w, wVal)\n",
      "    computedProb = subbed.evalf()\n",
      "    display(\"Prob with n=%i and w=%i is:\" % (nVal, wVal), computedProb)\n",
      "    \n",
      "displayProbs(1024, 2)\n",
      "displayProbs(1024, 5)\n",
      "displayProbs(1024, 20)"
     ],
     "language": "python",
     "metadata": {},
     "outputs": [
      {
       "metadata": {},
       "output_type": "display_data",
       "text": [
        "'Probability of match'"
       ]
      },
      {
       "latex": [
        "$$\\frac{1}{{\\binom{n}{w}}}$$"
       ],
       "metadata": {},
       "output_type": "display_data",
       "png": "[encoded data removed]",
       "text": [
        " 1 \n",
        "\u2500\u2500\u2500\n",
        "\u239bn\u239e\n",
        "\u239c \u239f\n",
        "\u239dw\u23a0"
       ]
      },
      {
       "metadata": {},
       "output_type": "display_data",
       "text": [
        "'Prob with n=1024 and w=2 is:'"
       ]
      },
      {
       "latex": [
        "$$1.90921309872923 \\cdot 10^{-6}$$"
       ],
       "metadata": {},
       "output_type": "display_data",
       "png": "[encoded data removed]",
       "text": [
        "1.90921309872923e-6"
       ]
      },
      {
       "metadata": {},
       "output_type": "display_data",
       "text": [
        "'Prob with n=1024 and w=5 is:'"
       ]
      },
      {
       "latex": [
        "$$1.07628886213801 \\cdot 10^{-13}$$"
       ],
       "metadata": {},
       "output_type": "display_data",
       "png": "[encoded data removed]",
       "text": [
        "1.07628886213801e-13"
       ]
      },
      {
       "metadata": {},
       "output_type": "display_data",
       "text": [
        "'Prob with n=1024 and w=20 is:'"
       ]
      },
      {
       "latex": [
        "$$1.82483624417666 \\cdot 10^{-42}$$"
       ],
       "metadata": {},
       "output_type": "display_data",
       "png": "[encoded data removed]",
       "text": [
        "1.82483624417666e-42"
       ]
      }
     ],
     "prompt_number": 4
    },
    {
     "cell_type": "markdown",
     "metadata": {},
     "source": [
      "# Overlap Sets"
     ]
    },
    {
     "cell_type": "code",
     "collapsed": false,
     "input": [
      "wx = Symbol(\"w_x\")\n",
      "omega = Symbol(\"Omega_x\")\n",
      "b = Symbol(\"b\")\n",
      "\n",
      "omegaF = binomial(wx, b) * binomial(n - wx, w - b)\n",
      "omegaEquality = Eq(Abs(omega), omegaF)\n",
      "display(omegaEquality)"
     ],
     "language": "python",
     "metadata": {},
     "outputs": [
      {
       "latex": [
        "$$\\left\\lvert{\\Omega_{x}}\\right\\rvert = {\\binom{w_{x}}{b}} {\\binom{n - w_{x}}{- b + w}}$$"
       ],
       "metadata": {},
       "output_type": "display_data",
       "png": "[encoded data removed]",
       "text": [
        "       \u239bw\u2093\u239e \u239bn - w\u2093\u239e\n",
        "\u2502\u03a9\u2093\u2502 = \u239c  \u239f\u22c5\u239c      \u239f\n",
        "       \u239db \u23a0 \u239d-b + w\u23a0"
       ]
      }
     ],
     "prompt_number": 5
    },
    {
     "cell_type": "markdown",
     "metadata": {},
     "source": [
      "# Inexact Matching"
     ]
    },
    {
     "cell_type": "code",
     "collapsed": false,
     "input": [
      "theta = Symbol(\"theta\")\n",
      "fpF = Sum(omegaF, (b, theta, w)) / binomial(n, w)\n",
      "fp = Symbol(\"fp_w^n\")\n",
      "display(Eq(fp, fpF))\n",
      "\n",
      "display(\"n=1024, w=4, b=2\", fpF.subs(n, 1024).subs(wx, w).subs(w, 4).subs(theta, 2).evalf())"
     ],
     "language": "python",
     "metadata": {},
     "outputs": [
      {
       "latex": [
        "$$fp^{n}_{w} = \\frac{1}{{\\binom{n}{w}}} \\sum_{b=\\theta}^{w} {\\binom{w_{x}}{b}} {\\binom{n - w_{x}}{- b + w}}$$"
       ],
       "metadata": {},
       "output_type": "display_data",
       "png": "[encoded data removed]",
       "text": [
        "            w                \n",
        "           ____              \n",
        "           \u2572                 \n",
        "            \u2572   \u239bw\u2093\u239e \u239bn - w\u2093\u239e\n",
        "             \u2572  \u239c  \u239f\u22c5\u239c      \u239f\n",
        "             \u2571  \u239db \u23a0 \u239d-b + w\u23a0\n",
        "            \u2571                \n",
        "           \u2571                 \n",
        "           \u203e\u203e\u203e\u203e              \n",
        "          b = \u03b8              \n",
        "fp_w__n = \u2500\u2500\u2500\u2500\u2500\u2500\u2500\u2500\u2500\u2500\u2500\u2500\u2500\u2500\u2500\u2500\u2500\u2500\u2500\n",
        "                  \u239bn\u239e        \n",
        "                  \u239c \u239f        \n",
        "                  \u239dw\u23a0        "
       ]
      },
      {
       "metadata": {},
       "output_type": "display_data",
       "text": [
        "'n=1024, w=4, b=2'"
       ]
      },
      {
       "latex": [
        "$$6.85523984236413 \\cdot 10^{-5}$$"
       ],
       "metadata": {},
       "output_type": "display_data",
       "png": "[encoded data removed]",
       "text": [
        "6.85523984236413e-5"
       ]
      }
     ],
     "prompt_number": 6
    },
    {
     "cell_type": "code",
     "collapsed": false,
     "input": [
      "approxFpF = omegaF.subs(b, theta) / binomial(n, w)\n",
      "display(\"Exact:\", fpF.subs(wx, w).subs(w, 7).subs(theta, 4).subs(n, 1024).evalf())\n",
      "display(\"Approx:\", approxFpF.subs(wx, w).subs(w, 7).subs(theta, 4).subs(n, 1024).evalf())"
     ],
     "language": "python",
     "metadata": {},
     "outputs": [
      {
       "metadata": {},
       "output_type": "display_data",
       "text": [
        "'Exact:'"
       ]
      },
      {
       "latex": [
        "$$2.67069117512708 \\cdot 10^{-8}$$"
       ],
       "metadata": {},
       "output_type": "display_data",
       "png": "[encoded data removed]",
       "text": [
        "2.67069117512708e-8"
       ]
      },
      {
       "metadata": {},
       "output_type": "display_data",
       "text": [
        "'Approx:'"
       ]
      },
      {
       "latex": [
        "$$2.66596026115235 \\cdot 10^{-8}$$"
       ],
       "metadata": {},
       "output_type": "display_data",
       "png": "[encoded data removed]",
       "text": [
        "2.66596026115235e-8"
       ]
      }
     ],
     "prompt_number": 7
    },
    {
     "cell_type": "code",
     "collapsed": false,
     "input": [
      "def plotLines(nVal, wVals, maxTheta, extra):\n",
      "    thetas = xrange(1, maxTheta+1)\n",
      "    \n",
      "    tmp1 = fpF.subs(wx, w).subs(n, nVal)\n",
      "    for wVal in wVals:\n",
      "        tmp2 = tmp1.subs(w, wVal)\n",
      "        errors = [tmp2.subs(theta, i).evalf() for i in thetas]\n",
      "        label = \"n=%i, w=%i\" % (nVal, wVal)\n",
      "        plt.plot(thetas, errors, extra, label=label)\n",
      "\n",
      "fig = plt.gcf()\n",
      "fig.set_size_inches(16, 8)\n",
      "\n",
      "#plotLines(1000, (20, 40, 60, 80, 100), 20, '')\n",
      "plotLines(5000, (20, 40, 60, 80, 100), 20, '')\n",
      "#plotLines(10000, (20, 40, 60, 80, 100), 20, '')\n",
      "\n",
      "plt.title(\"Calculated False Match Curves\")\n",
      "plt.xlabel(\"Theta\")\n",
      "plt.ylabel(\"False positive rate\")\n",
      "plt.legend()\n",
      "plt.show()"
     ],
     "language": "python",
     "metadata": {},
     "outputs": [
      {
       "metadata": {},
       "output_type": "display_data",
       "png": "[encoded data removed]",
       "text": [
        "<matplotlib.figure.Figure at 0x1091d4d90>"
       ]
      }
     ],
     "prompt_number": 8
    },
    {
     "cell_type": "markdown",
     "metadata": {},
     "source": [
      "# Subsampling"
     ]
    },
    {
     "cell_type": "code",
     "collapsed": false,
     "input": [
      "wxp = Symbol(\"w_x'\")\n",
      "wy = Symbol(\"w_y\")\n",
      "oxp = Symbol(\"Omega_x'\")\n",
      "\n",
      "subsampledOmega = binomial(wxp, b) * binomial(n - wxp, wy - b)\n",
      "display(Eq(oxp, subsampledOmega))"
     ],
     "language": "python",
     "metadata": {},
     "outputs": [
      {
       "latex": [
        "$$\\Omega_{x'} = {\\binom{w_{x'}}{b}} {\\binom{n - w_{x'}}{- b + w_{y}}}$$"
       ],
       "metadata": {},
       "output_type": "display_data",
       "png": "[encoded data removed]",
       "text": [
        "       \u239bw_x'\u239e \u239bn - w_x'\u239e\n",
        "\u03a9_x' = \u239c    \u239f\u22c5\u239c        \u239f\n",
        "       \u239d b  \u23a0 \u239d-b + w_y\u23a0"
       ]
      }
     ],
     "prompt_number": 9
    },
    {
     "cell_type": "code",
     "collapsed": false,
     "input": [
      "subsampledFpF = Sum(subsampledOmega, (b, theta, w)) / binomial(n, wy)\n",
      "display(subsampledFpF)\n",
      "\n",
      "display(\"n=1024, w=8, w_x'=4, omega=2\", subsampledFpF.subs(wy, w).subs(n, 1024).subs(w, 8).subs(wxp, 4).subs(theta, 2).evalf())"
     ],
     "language": "python",
     "metadata": {},
     "outputs": [
      {
       "latex": [
        "$$\\frac{1}{{\\binom{n}{w_{y}}}} \\sum_{b=\\theta}^{w} {\\binom{w_{x'}}{b}} {\\binom{n - w_{x'}}{- b + w_{y}}}$$"
       ],
       "metadata": {},
       "output_type": "display_data",
       "png": "[encoded data removed]",
       "text": [
        "  w                    \n",
        " ____                  \n",
        " \u2572                     \n",
        "  \u2572   \u239bw_x'\u239e \u239bn - w_x'\u239e\n",
        "   \u2572  \u239c    \u239f\u22c5\u239c        \u239f\n",
        "   \u2571  \u239d b  \u23a0 \u239d-b + w_y\u23a0\n",
        "  \u2571                    \n",
        " \u2571                     \n",
        " \u203e\u203e\u203e\u203e                  \n",
        "b = \u03b8                  \n",
        "\u2500\u2500\u2500\u2500\u2500\u2500\u2500\u2500\u2500\u2500\u2500\u2500\u2500\u2500\u2500\u2500\u2500\u2500\u2500\u2500\u2500\u2500\u2500\n",
        "         \u239b n \u239e         \n",
        "         \u239c   \u239f         \n",
        "         \u239dw_y\u23a0         "
       ]
      },
      {
       "metadata": {},
       "output_type": "display_data",
       "text": [
        "\"n=1024, w=8, w_x'=4, omega=2\""
       ]
      },
      {
       "latex": [
        "$$0.000318241665415146$$"
       ],
       "metadata": {},
       "output_type": "display_data",
       "png": "[encoded data removed]",
       "text": [
        "0.000318241665415146"
       ]
      }
     ],
     "prompt_number": 10
    },
    {
     "cell_type": "markdown",
     "metadata": {},
     "source": [
      "# Classifying a Set of Vectors"
     ]
    },
    {
     "cell_type": "code",
     "collapsed": false,
     "input": [
      "M = Symbol(\"M\")\n",
      "fpX = Symbol(\"fp_X\")\n",
      "fpXF = M * fpF\n",
      "display(Eq(fpX, M * fp))\n",
      "display(Eq(fpX, fpXF))"
     ],
     "language": "python",
     "metadata": {},
     "outputs": [
      {
       "latex": [
        "$$fp_{X} = M fp^{n}_{w}$$"
       ],
       "metadata": {},
       "output_type": "display_data",
       "png": "[encoded data removed]",
       "text": [
        "fp_X = M\u22c5fp_w__n"
       ]
      },
      {
       "latex": [
        "$$fp_{X} = \\frac{M}{{\\binom{n}{w}}} \\sum_{b=\\theta}^{w} {\\binom{w_{x}}{b}} {\\binom{n - w_{x}}{- b + w}}$$"
       ],
       "metadata": {},
       "output_type": "display_data",
       "png": "[encoded data removed]",
       "text": [
        "           w                \n",
        "          ____              \n",
        "          \u2572                 \n",
        "           \u2572   \u239bw\u2093\u239e \u239bn - w\u2093\u239e\n",
        "            \u2572  \u239c  \u239f\u22c5\u239c      \u239f\n",
        "       M\u22c5   \u2571  \u239db \u23a0 \u239d-b + w\u23a0\n",
        "           \u2571                \n",
        "          \u2571                 \n",
        "          \u203e\u203e\u203e\u203e              \n",
        "         b = \u03b8              \n",
        "fp_X = \u2500\u2500\u2500\u2500\u2500\u2500\u2500\u2500\u2500\u2500\u2500\u2500\u2500\u2500\u2500\u2500\u2500\u2500\u2500\u2500\u2500\n",
        "                \u239bn\u239e         \n",
        "                \u239c \u239f         \n",
        "                \u239dw\u23a0         "
       ]
      }
     ],
     "prompt_number": 11
    },
    {
     "cell_type": "code",
     "collapsed": false,
     "input": [
      "display(\"n=64, w=3, theta=2, M=10\", fpXF.subs(wx, w).subs(n, 64).subs(w, 3).subs(theta, 2).subs(M, 10).evalf())\n",
      "display(\"n=64, w=12, theta=8, M=10\", fpXF.subs(wx, w).subs(n, 64).subs(w, 12).subs(theta, 8).subs(M, 10).evalf())\n",
      "display(\"n=1024, w=21, theta=14, M=10\", fpXF.subs(wx, w).subs(n, 1024).subs(w, 21).subs(theta, 14).subs(M, 10).evalf())"
     ],
     "language": "python",
     "metadata": {},
     "outputs": [
      {
       "metadata": {},
       "output_type": "display_data",
       "text": [
        "'n=64, w=3, theta=2, M=10'"
       ]
      },
      {
       "latex": [
        "$$0.0441628264208909$$"
       ],
       "metadata": {},
       "output_type": "display_data",
       "png": "[encoded data removed]",
       "text": [
        "0.0441628264208909"
       ]
      },
      {
       "metadata": {},
       "output_type": "display_data",
       "text": [
        "'n=64, w=12, theta=8, M=10'"
       ]
      },
      {
       "latex": [
        "$$0.000423111850363184$$"
       ],
       "metadata": {},
       "output_type": "display_data",
       "png": "[encoded data removed]",
       "text": [
        "0.000423111850363184"
       ]
      },
      {
       "metadata": {},
       "output_type": "display_data",
       "text": [
        "'n=1024, w=21, theta=14, M=10'"
       ]
      },
      {
       "latex": [
        "$$8.8349018063014 \\cdot 10^{-21}$$"
       ],
       "metadata": {},
       "output_type": "display_data",
       "png": "[encoded data removed]",
       "text": [
        "8.83490180630140e-21"
       ]
      }
     ],
     "prompt_number": 12
    },
    {
     "cell_type": "markdown",
     "metadata": {},
     "source": [
      "# Union Property"
     ]
    },
    {
     "cell_type": "code",
     "collapsed": false,
     "input": [
      "s = Symbol(\"s\")\n",
      "p0 = Symbol(\"p_0\")\n",
      "p0F = (1 - s) ** M\n",
      "display(Eq(p0, p0F))"
     ],
     "language": "python",
     "metadata": {},
     "outputs": [
      {
       "latex": [
        "$$p_{0} = \\left(- s + 1\\right)^{M}$$"
       ],
       "metadata": {},
       "output_type": "display_data",
       "png": "[encoded data removed]",
       "text": [
        "             M\n",
        "p\u2080 = (-s + 1) "
       ]
      }
     ],
     "prompt_number": 13
    },
    {
     "cell_type": "code",
     "collapsed": false,
     "input": [
      "mVals = list(xrange(160))\n",
      "p0F02 = p0F.subs(s, 0.02)\n",
      "percentOnBits = [1 - p0F02.subs(M, mVal).evalf() for mVal in mVals]\n",
      "plt.plot(mVals, percentOnBits)\n",
      "plt.xlabel(\"M\")\n",
      "plt.ylabel(\"Percentage of ON bits\")\n",
      "plt.show()"
     ],
     "language": "python",
     "metadata": {},
     "outputs": [
      {
       "metadata": {},
       "output_type": "display_data",
       "png": "[encoded data removed]",
       "text": [
        "<matplotlib.figure.Figure at 0x109135290>"
       ]
      }
     ],
     "prompt_number": 14
    },
    {
     "cell_type": "code",
     "collapsed": false,
     "input": [
      "pFp = Symbol(\"p_fp\")\n",
      "pFpF = (1 - (1 - s) ** M) ** w\n",
      "display(Eq(pFp, pFpF))"
     ],
     "language": "python",
     "metadata": {},
     "outputs": [
      {
       "latex": [
        "$$p_{fp} = \\left(- \\left(- s + 1\\right)^{M} + 1\\right)^{w}$$"
       ],
       "metadata": {},
       "output_type": "display_data",
       "png": "[encoded data removed]",
       "text": [
        "                        w\n",
        "       \u239b          M    \u239e \n",
        "p_fp = \u239d- (-s + 1)  + 1\u23a0 "
       ]
      }
     ],
     "prompt_number": 15
    },
    {
     "cell_type": "code",
     "collapsed": false,
     "input": [
      "display(\"n=1024, w=2, M=20, s=0.02\", pFpF.subs(s, w / n).subs(n, 1024).subs(w, 2).subs(M, 20).evalf())\n",
      "display(\"n=1024, w=20, M=20, s=0.02\", pFpF.subs(s, w / n).subs(n, 1024).subs(w, 20).subs(M, 20).evalf())\n",
      "display(\"n=1024, w=20, M=40, s=0.02\", pFpF.subs(s, w / n).subs(n, 1024).subs(w, 20).subs(M, 40).evalf())"
     ],
     "language": "python",
     "metadata": {},
     "outputs": [
      {
       "metadata": {},
       "output_type": "display_data",
       "text": [
        "'n=1024, w=2, M=20, s=0.02'"
       ]
      },
      {
       "latex": [
        "$$0.00147042577155698$$"
       ],
       "metadata": {},
       "output_type": "display_data",
       "png": "[encoded data removed]",
       "text": [
        "0.00147042577155698"
       ]
      },
      {
       "metadata": {},
       "output_type": "display_data",
       "text": [
        "'n=1024, w=20, M=20, s=0.02'"
       ]
      },
      {
       "latex": [
        "$$1.83536456233615 \\cdot 10^{-10}$$"
       ],
       "metadata": {},
       "output_type": "display_data",
       "png": "[encoded data removed]",
       "text": [
        "1.83536456233615e-10"
       ]
      },
      {
       "metadata": {},
       "output_type": "display_data",
       "text": [
        "'n=1024, w=20, M=40, s=0.02'"
       ]
      },
      {
       "latex": [
        "$$5.4821893505826 \\cdot 10^{-6}$$"
       ],
       "metadata": {},
       "output_type": "display_data",
       "png": "[encoded data removed]",
       "text": [
        "5.48218935058260e-6"
       ]
      }
     ],
     "prompt_number": 20
    },
    {
     "cell_type": "markdown",
     "metadata": {},
     "source": [
      "# Inexact Matches with Unions"
     ]
    },
    {
     "cell_type": "code",
     "collapsed": false,
     "input": [
      "epsilon = Symbol(\"epsilon\")\n",
      "unionInexactF = Sum(omegaF, (b, theta, w)) / binomial(n, w)\n",
      "display(Eq(epsilon, unionInexactF))"
     ],
     "language": "python",
     "metadata": {},
     "outputs": [
      {
       "latex": [
        "$$\\epsilon = \\frac{1}{{\\binom{n}{w}}} \\sum_{b=\\theta}^{w} {\\binom{w_{x}}{b}} {\\binom{n - w_{x}}{- b + w}}$$"
       ],
       "metadata": {},
       "output_type": "display_data",
       "png": "[encoded data removed]",
       "text": [
        "      w                \n",
        "     ____              \n",
        "     \u2572                 \n",
        "      \u2572   \u239bw\u2093\u239e \u239bn - w\u2093\u239e\n",
        "       \u2572  \u239c  \u239f\u22c5\u239c      \u239f\n",
        "       \u2571  \u239db \u23a0 \u239d-b + w\u23a0\n",
        "      \u2571                \n",
        "     \u2571                 \n",
        "     \u203e\u203e\u203e\u203e              \n",
        "    b = \u03b8              \n",
        "\u03b5 = \u2500\u2500\u2500\u2500\u2500\u2500\u2500\u2500\u2500\u2500\u2500\u2500\u2500\u2500\u2500\u2500\u2500\u2500\u2500\n",
        "            \u239bn\u239e        \n",
        "            \u239c \u239f        \n",
        "            \u239dw\u23a0        "
       ]
      }
     ],
     "prompt_number": 27
    },
    {
     "cell_type": "code",
     "collapsed": false,
     "input": [
      "display(\"n=1024, w=20, M=20\", unionInexactF.subs(wx, n*(1-p0F)).subs(s, w / n).subs(n, 1024).subs(w, 20).subs(M, 20).subs(theta, 20).evalf())\n",
      "display(\"n=1024, w=20, M=19\", unionInexactF.subs(wx, n*(1-p0F)).subs(s, w / n).subs(n, 1024).subs(w, 20).subs(M, 20).subs(theta, 19).evalf())\n",
      "display(\"n=1024, w=20, M=18\", unionInexactF.subs(wx, n*(1-p0F)).subs(s, w / n).subs(n, 1024).subs(w, 20).subs(M, 20).subs(theta, 18).evalf())\n",
      "display(\"n=2048, w=20, M=18\", unionInexactF.subs(wx, n*(1-p0F)).subs(s, w / n).subs(n, 2048).subs(w, 20).subs(M, 20).subs(theta, 18).evalf())"
     ],
     "language": "python",
     "metadata": {},
     "outputs": [
      {
       "metadata": {},
       "output_type": "display_data",
       "text": [
        "'n=1024, w=20, M=20'"
       ]
      },
      {
       "latex": [
        "$$1.23782572305677 \\cdot 10^{-10}$$"
       ],
       "metadata": {},
       "output_type": "display_data",
       "png": "[encoded data removed]",
       "text": [
        "1.23782572305677e-10"
       ]
      },
      {
       "metadata": {},
       "output_type": "display_data",
       "text": [
        "'n=1024, w=20, M=19'"
       ]
      },
      {
       "latex": [
        "$$5.55166122237973 \\cdot 10^{-9}$$"
       ],
       "metadata": {},
       "output_type": "display_data",
       "png": "[encoded data removed]",
       "text": [
        "5.55166122237973e-9"
       ]
      },
      {
       "metadata": {},
       "output_type": "display_data",
       "text": [
        "'n=1024, w=20, M=18'"
       ]
      },
      {
       "latex": [
        "$$1.18086573478834 \\cdot 10^{-7}$$"
       ],
       "metadata": {},
       "output_type": "display_data",
       "png": "[encoded data removed]",
       "text": [
        "1.18086573478834e-7"
       ]
      },
      {
       "metadata": {},
       "output_type": "display_data",
       "text": [
        "'n=2048, w=20, M=18'"
       ]
      },
      {
       "latex": [
        "$$3.08795140545437 \\cdot 10^{-12}$$"
       ],
       "metadata": {},
       "output_type": "display_data",
       "png": "[encoded data removed]",
       "text": [
        "3.08795140545437e-12"
       ]
      }
     ],
     "prompt_number": 43
    },
    {
     "cell_type": "code",
     "collapsed": false,
     "input": [],
     "language": "python",
     "metadata": {},
     "outputs": []
    }
   ],
   "metadata": {}
  }
 ]
}